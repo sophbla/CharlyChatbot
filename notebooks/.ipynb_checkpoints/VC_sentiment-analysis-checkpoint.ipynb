{
 "cells": [
  {
   "cell_type": "code",
   "execution_count": 1,
   "id": "3fb0f926",
   "metadata": {},
   "outputs": [
    {
     "name": "stderr",
     "output_type": "stream",
     "text": [
      "/home/vroni/.pyenv/versions/3.10.6/envs/MHConvoAI/lib/python3.10/site-packages/tqdm/auto.py:22: TqdmWarning: IProgress not found. Please update jupyter and ipywidgets. See https://ipywidgets.readthedocs.io/en/stable/user_install.html\n",
      "  from .autonotebook import tqdm as notebook_tqdm\n",
      "2022-12-09 09:02:51.960758: I tensorflow/core/platform/cpu_feature_guard.cc:193] This TensorFlow binary is optimized with oneAPI Deep Neural Network Library (oneDNN) to use the following CPU instructions in performance-critical operations:  AVX2 FMA\n",
      "To enable them in other operations, rebuild TensorFlow with the appropriate compiler flags.\n"
     ]
    }
   ],
   "source": [
    "\n",
    "import numpy as np\n",
    "from transformers import AutoTokenizer\n",
    "from transformers import AutoModelForSequenceClassification\n",
    "from transformers import TFAutoModelForSequenceClassification\n",
    "from scipy.special import softmax\n",
    "import csv\n",
    "import urllib.request\n",
    "\n"
   ]
  },
  {
   "cell_type": "markdown",
   "id": "efa761e4",
   "metadata": {},
   "source": [
    "# twitter-roberta-base-emotion \n",
    "Model card: https://huggingface.co/cardiffnlp/twitter-roberta-base-emotion\n",
    "\n",
    "Benchmarks: https://arxiv.org/pdf/2010.12421.pdf\n",
    "\n",
    "Tasks: emoji, emotion, hate, irony, offensive, sentiment, stance/abortion, stance/atheism, stance/climate, stance/feminist, stance/hillary\n"
   ]
  },
  {
   "cell_type": "markdown",
   "id": "37276485",
   "metadata": {},
   "source": [
    "## Different models\n"
   ]
  },
  {
   "cell_type": "markdown",
   "id": "5cf7d5bf",
   "metadata": {},
   "source": [
    "### Detect offensive language"
   ]
  },
  {
   "cell_type": "code",
   "execution_count": 2,
   "id": "b4b61e14",
   "metadata": {},
   "outputs": [
    {
     "name": "stdout",
     "output_type": "stream",
     "text": [
      "['not-offensive', 'offensive']\n"
     ]
    }
   ],
   "source": [
    "##  Specify task\n",
    "\n",
    "task='offensive'\n",
    "MODEL = f\"cardiffnlp/twitter-roberta-base-{task}\"\n",
    "\n",
    "\n",
    "## Download label mapping for tasks\n",
    "\n",
    "mapping_link = f\"https://raw.githubusercontent.com/cardiffnlp/tweeteval/main/datasets/{task}/mapping.txt\"\n",
    "with urllib.request.urlopen(mapping_link) as f:\n",
    "    html = f.read().decode('utf-8').split(\"\\n\")\n",
    "    csvreader = csv.reader(html, delimiter='\\t')\n",
    "labels_off = [row[1] for row in csvreader if len(row) > 1]\n",
    "print(labels_off)\n",
    "\n",
    "\n",
    "## Instantiate tokenizer and model\n",
    "\n",
    "tokenizer_off = AutoTokenizer.from_pretrained(MODEL)\n",
    "model_off = AutoModelForSequenceClassification.from_pretrained(MODEL)"
   ]
  },
  {
   "cell_type": "code",
   "execution_count": 3,
   "id": "cb5129b7",
   "metadata": {},
   "outputs": [],
   "source": [
    "# Function for predicting offensive language\n",
    "\n",
    "def predict_offensive(text, labels):\n",
    "    \n",
    "    # Encode\n",
    "    encoded_input = tokenizer_off(text, return_tensors='pt')\n",
    "    \n",
    "    # Model output\n",
    "    output = model_off(**encoded_input)\n",
    "    \n",
    "    # Convert output (tensors) to numpy array\n",
    "    scores = output[0][0].detach().numpy()\n",
    "    \n",
    "    # Apply softmax function\n",
    "    scores = softmax(scores)\n",
    "    \n",
    "    # Convert scores for emotions to dictionary\n",
    "    offensive = {}\n",
    "    for i in range(len(scores)):\n",
    "        offensive[labels_off[i]] = scores[i]\n",
    "    \n",
    "    return offensive"
   ]
  },
  {
   "cell_type": "markdown",
   "id": "109e888b",
   "metadata": {},
   "source": [
    "### Predict emotions"
   ]
  },
  {
   "cell_type": "code",
   "execution_count": 4,
   "id": "2cfdf53e",
   "metadata": {},
   "outputs": [
    {
     "name": "stdout",
     "output_type": "stream",
     "text": [
      "['anger', 'joy', 'optimism', 'sadness']\n"
     ]
    }
   ],
   "source": [
    "##  Specify task\n",
    "\n",
    "task='emotion'\n",
    "MODEL = f\"cardiffnlp/twitter-roberta-base-{task}\"\n",
    "\n",
    "\n",
    "## Download label mapping for tasks\n",
    "\n",
    "mapping_link = f\"https://raw.githubusercontent.com/cardiffnlp/tweeteval/main/datasets/{task}/mapping.txt\"\n",
    "with urllib.request.urlopen(mapping_link) as f:\n",
    "    html = f.read().decode('utf-8').split(\"\\n\")\n",
    "    csvreader = csv.reader(html, delimiter='\\t')\n",
    "labels_emo = [row[1] for row in csvreader if len(row) > 1]\n",
    "print(labels_emo)\n",
    "\n",
    "\n",
    "## Instantiate tokenizer and model\n",
    "\n",
    "tokenizer_emo = AutoTokenizer.from_pretrained(MODEL)\n",
    "model_emo = AutoModelForSequenceClassification.from_pretrained(MODEL)"
   ]
  },
  {
   "cell_type": "code",
   "execution_count": 12,
   "id": "7cbd6c99",
   "metadata": {},
   "outputs": [],
   "source": [
    "# Function for predicting emotions\n",
    "\n",
    "def predict_emotions(text, labels):\n",
    "    \n",
    "    # Encode\n",
    "    encoded_input = tokenizer_emo(text, return_tensors='pt')\n",
    "    \n",
    "    # Model output\n",
    "    output = model_emo(**encoded_input)\n",
    "    \n",
    "    # Convert output (tensors) to numpy array\n",
    "    scores = output[0][0].detach().numpy()\n",
    "    \n",
    "    # Apply softmax function\n",
    "    scores = softmax(scores)\n",
    "    \n",
    "    # Convert scores for emotions to dictionary\n",
    "    emotions = {}\n",
    "    for i in range(len(scores)):\n",
    "        emotions[labels_emo[i]] = scores[i]\n",
    "    \n",
    "    return emotions"
   ]
  },
  {
   "cell_type": "markdown",
   "id": "047695ea",
   "metadata": {},
   "source": [
    "## Detect positive / negative / neutral"
   ]
  },
  {
   "cell_type": "code",
   "execution_count": 13,
   "id": "3e73b899",
   "metadata": {},
   "outputs": [
    {
     "name": "stdout",
     "output_type": "stream",
     "text": [
      "['negative', 'neutral', 'positive']\n"
     ]
    },
    {
     "name": "stderr",
     "output_type": "stream",
     "text": [
      "Downloading: 100%|██████████████████████████████████████████████████████████████| 747/747 [00:00<00:00, 190kB/s]\n",
      "Downloading: 100%|███████████████████████████████████████████████████████████| 899k/899k [00:00<00:00, 1.43MB/s]\n",
      "Downloading: 100%|████████████████████████████████████████████████████████████| 456k/456k [00:00<00:00, 895kB/s]\n",
      "Downloading: 100%|██████████████████████████████████████████████████████████████| 150/150 [00:00<00:00, 109kB/s]\n",
      "Downloading: 100%|███████████████████████████████████████████████████████████| 499M/499M [00:22<00:00, 21.7MB/s]\n"
     ]
    }
   ],
   "source": [
    "##  Specify task\n",
    "\n",
    "task='sentiment'\n",
    "MODEL = f\"cardiffnlp/twitter-roberta-base-{task}\"\n",
    "\n",
    "\n",
    "## Download label mapping for tasks\n",
    "\n",
    "mapping_link = f\"https://raw.githubusercontent.com/cardiffnlp/tweeteval/main/datasets/{task}/mapping.txt\"\n",
    "with urllib.request.urlopen(mapping_link) as f:\n",
    "    html = f.read().decode('utf-8').split(\"\\n\")\n",
    "    csvreader = csv.reader(html, delimiter='\\t')\n",
    "labels_sent = [row[1] for row in csvreader if len(row) > 1]\n",
    "print(labels_sent)\n",
    "\n",
    "\n",
    "## Instantiate tokenizer and model\n",
    "\n",
    "tokenizer_sent = AutoTokenizer.from_pretrained(MODEL)\n",
    "model_sent = AutoModelForSequenceClassification.from_pretrained(MODEL)"
   ]
  },
  {
   "cell_type": "code",
   "execution_count": 16,
   "id": "6ad082e5",
   "metadata": {},
   "outputs": [],
   "source": [
    "# Function for predicting emotions\n",
    "\n",
    "def predict_sentiment(text, labels):\n",
    "    \n",
    "    # Encode\n",
    "    encoded_input = tokenizer_sent(text, return_tensors='pt')\n",
    "    \n",
    "    # Model output\n",
    "    output = model_sent(**encoded_input)\n",
    "    \n",
    "    # Convert output (tensors) to numpy array\n",
    "    scores = output[0][0].detach().numpy()\n",
    "    \n",
    "    # Apply softmax function\n",
    "    scores = softmax(scores)\n",
    "    \n",
    "    # Convert scores for emotions to dictionary\n",
    "    sentiment = {}\n",
    "    for i in range(len(scores)):\n",
    "        sentiment[labels_sent[i]] = scores[i]\n",
    "    \n",
    "    return sentiment"
   ]
  },
  {
   "cell_type": "markdown",
   "id": "918713ba",
   "metadata": {},
   "source": [
    "# Test predictions"
   ]
  },
  {
   "cell_type": "code",
   "execution_count": 49,
   "id": "146cba99",
   "metadata": {},
   "outputs": [],
   "source": [
    "# User input\n",
    "text = \"I want to have sex but my partner does not want to\""
   ]
  },
  {
   "cell_type": "code",
   "execution_count": 43,
   "id": "b7509b8e",
   "metadata": {},
   "outputs": [
    {
     "data": {
      "text/plain": [
       "{'not-offensive': 0.47435132, 'offensive': 0.52564865}"
      ]
     },
     "execution_count": 43,
     "metadata": {},
     "output_type": "execute_result"
    }
   ],
   "source": [
    "offensive = predict_offensive(text, labels_off)\n",
    "offensive"
   ]
  },
  {
   "cell_type": "code",
   "execution_count": 51,
   "id": "5c3f2132",
   "metadata": {
    "scrolled": true
   },
   "outputs": [
    {
     "data": {
      "text/plain": [
       "{'anger': 0.12061143,\n",
       " 'joy': 0.031667437,\n",
       " 'optimism': 0.021350257,\n",
       " 'sadness': 0.8263709}"
      ]
     },
     "execution_count": 51,
     "metadata": {},
     "output_type": "execute_result"
    }
   ],
   "source": [
    "emotions = predict_emotions(text, labels_emo)\n",
    "emotions"
   ]
  },
  {
   "cell_type": "code",
   "execution_count": 50,
   "id": "99214c6e",
   "metadata": {},
   "outputs": [
    {
     "data": {
      "text/plain": [
       "{'negative': 0.6622486, 'neutral': 0.3186334, 'positive': 0.019117936}"
      ]
     },
     "execution_count": 50,
     "metadata": {},
     "output_type": "execute_result"
    }
   ],
   "source": [
    "sentiment = predict_sentiment(text, labels_sent)\n",
    "sentiment"
   ]
  }
 ],
 "metadata": {
  "kernelspec": {
   "display_name": "Python 3 (ipykernel)",
   "language": "python",
   "name": "python3"
  },
  "language_info": {
   "codemirror_mode": {
    "name": "ipython",
    "version": 3
   },
   "file_extension": ".py",
   "mimetype": "text/x-python",
   "name": "python",
   "nbconvert_exporter": "python",
   "pygments_lexer": "ipython3",
   "version": "3.10.6"
  },
  "toc": {
   "base_numbering": 1,
   "nav_menu": {},
   "number_sections": true,
   "sideBar": true,
   "skip_h1_title": false,
   "title_cell": "Table of Contents",
   "title_sidebar": "Contents",
   "toc_cell": false,
   "toc_position": {},
   "toc_section_display": true,
   "toc_window_display": false
  }
 },
 "nbformat": 4,
 "nbformat_minor": 5
}
