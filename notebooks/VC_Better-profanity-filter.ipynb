{
 "cells": [
  {
   "cell_type": "code",
   "execution_count": 17,
   "id": "e70413e7",
   "metadata": {},
   "outputs": [],
   "source": [
    "from better_profanity import profanity"
   ]
  },
  {
   "cell_type": "code",
   "execution_count": 57,
   "id": "6801b70e",
   "metadata": {},
   "outputs": [
    {
     "name": "stdout",
     "output_type": "stream",
     "text": [
      "P1ece **** ****\n"
     ]
    }
   ],
   "source": [
    "profanity.load_censor_words()\n",
    "text = \"P1ece sh1t l3zbi4ns\"\n",
    "censored_text = profanity.censor(text)\n",
    "print(censored_text)"
   ]
  },
  {
   "cell_type": "code",
   "execution_count": 48,
   "id": "4f314229",
   "metadata": {},
   "outputs": [
    {
     "data": {
      "text/plain": [
       "True"
      ]
     },
     "execution_count": 48,
     "metadata": {},
     "output_type": "execute_result"
    }
   ],
   "source": [
    "profanity.contains_profanity(text)"
   ]
  },
  {
   "cell_type": "code",
   "execution_count": 52,
   "id": "3c95fec3",
   "metadata": {},
   "outputs": [
    {
     "data": {
      "text/plain": [
       "True"
      ]
     },
     "execution_count": 52,
     "metadata": {},
     "output_type": "execute_result"
    }
   ],
   "source": [
    "trigger_words = ['happy', 'jolly', 'merry']\n",
    "profanity.load_censor_words(trigger_words)\n",
    "profanity.contains_profanity(\"Have a merry day! :)\")\n"
   ]
  },
  {
   "cell_type": "code",
   "execution_count": 54,
   "id": "114383c9",
   "metadata": {},
   "outputs": [
    {
     "name": "stdout",
     "output_type": "stream",
     "text": [
      "**** **** ****\n"
     ]
    }
   ],
   "source": [
    "profanity.load_censor_words()\n",
    "text = \"Fuck sh1t l3zbi4n\"\n",
    "censored_text = profanity.censor(text)\n",
    "print(censored_text)\n"
   ]
  }
 ],
 "metadata": {
  "kernelspec": {
   "display_name": "Python 3 (ipykernel)",
   "language": "python",
   "name": "python3"
  },
  "language_info": {
   "codemirror_mode": {
    "name": "ipython",
    "version": 3
   },
   "file_extension": ".py",
   "mimetype": "text/x-python",
   "name": "python",
   "nbconvert_exporter": "python",
   "pygments_lexer": "ipython3",
   "version": "3.10.6"
  },
  "toc": {
   "base_numbering": 1,
   "nav_menu": {},
   "number_sections": true,
   "sideBar": true,
   "skip_h1_title": false,
   "title_cell": "Table of Contents",
   "title_sidebar": "Contents",
   "toc_cell": false,
   "toc_position": {},
   "toc_section_display": true,
   "toc_window_display": false
  }
 },
 "nbformat": 4,
 "nbformat_minor": 5
}
