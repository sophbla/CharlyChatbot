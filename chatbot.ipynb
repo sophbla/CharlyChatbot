{
 "cells": [
  {
   "cell_type": "code",
   "execution_count": 1,
   "metadata": {},
   "outputs": [
    {
     "name": "stderr",
     "output_type": "stream",
     "text": [
      "[nltk_data] Downloading package stopwords to\n",
      "[nltk_data]     /home/alissah/nltk_data...\n",
      "[nltk_data]   Package stopwords is already up-to-date!\n",
      "[nltk_data] Downloading package wordnet to /home/alissah/nltk_data...\n",
      "[nltk_data]   Package wordnet is already up-to-date!\n",
      "[nltk_data] Downloading package omw-1.4 to /home/alissah/nltk_data...\n",
      "[nltk_data]   Package omw-1.4 is already up-to-date!\n"
     ]
    }
   ],
   "source": [
    "import pandas as pd\n",
    "import numpy as np\n",
    "import re\n",
    "import matplotlib.pyplot as plt\n",
    "import seaborn as sns\n",
    "import nltk\n",
    "from nltk.corpus import stopwords\n",
    "nltk.download('stopwords')\n",
    "nltk.download('wordnet')\n",
    "nltk.download('omw-1.4')\n",
    "from nltk.stem.wordnet import WordNetLemmatizer\n",
    "from sklearn.preprocessing import OneHotEncoder"
   ]
  },
  {
   "cell_type": "code",
   "execution_count": 2,
   "metadata": {},
   "outputs": [
    {
     "data": {
      "text/plain": [
       "(1658, 9)"
      ]
     },
     "execution_count": 2,
     "metadata": {},
     "output_type": "execute_result"
    }
   ],
   "source": [
    "df = pd.read_csv('raw_data/counselchat-data.csv').copy()\n",
    "# df = df.iloc[10:20, :]\n",
    "# df.index = np.arange(len(df))\n",
    "df.shape"
   ]
  },
  {
   "cell_type": "code",
   "execution_count": 3,
   "metadata": {},
   "outputs": [
    {
     "data": {
      "text/plain": [
       "questionID         2\n",
       "questionTitle    167\n",
       "questionText     272\n",
       "questionUrl      175\n",
       "topics           185\n",
       "therapistName    175\n",
       "therapistUrl     175\n",
       "answerText       175\n",
       "upvotes          180\n",
       "dtype: int64"
      ]
     },
     "execution_count": 3,
     "metadata": {},
     "output_type": "execute_result"
    }
   ],
   "source": [
    "df.isnull().sum()"
   ]
  },
  {
   "cell_type": "code",
   "execution_count": 4,
   "metadata": {},
   "outputs": [],
   "source": [
    "df.dropna(inplace=True)\n",
    "df.drop_duplicates(inplace=True)"
   ]
  },
  {
   "cell_type": "code",
   "execution_count": 5,
   "metadata": {},
   "outputs": [
    {
     "data": {
      "text/plain": [
       "(1372, 9)"
      ]
     },
     "execution_count": 5,
     "metadata": {},
     "output_type": "execute_result"
    }
   ],
   "source": [
    "df.shape"
   ]
  },
  {
   "cell_type": "code",
   "execution_count": 6,
   "metadata": {},
   "outputs": [
    {
     "data": {
      "text/html": [
       "<div>\n",
       "<style scoped>\n",
       "    .dataframe tbody tr th:only-of-type {\n",
       "        vertical-align: middle;\n",
       "    }\n",
       "\n",
       "    .dataframe tbody tr th {\n",
       "        vertical-align: top;\n",
       "    }\n",
       "\n",
       "    .dataframe thead th {\n",
       "        text-align: right;\n",
       "    }\n",
       "</style>\n",
       "<table border=\"1\" class=\"dataframe\">\n",
       "  <thead>\n",
       "    <tr style=\"text-align: right;\">\n",
       "      <th></th>\n",
       "      <th>question</th>\n",
       "    </tr>\n",
       "  </thead>\n",
       "  <tbody>\n",
       "    <tr>\n",
       "      <th>0</th>\n",
       "      <td>Escalating disagreements between mother and wi...</td>\n",
       "    </tr>\n",
       "    <tr>\n",
       "      <th>1</th>\n",
       "      <td>I'm addicted to smoking. How can I stop? I'm p...</td>\n",
       "    </tr>\n",
       "    <tr>\n",
       "      <th>2</th>\n",
       "      <td>Keeping secrets from my family I have secrets ...</td>\n",
       "    </tr>\n",
       "    <tr>\n",
       "      <th>3</th>\n",
       "      <td>The Underlying Causes of Being Possessive I am...</td>\n",
       "    </tr>\n",
       "    <tr>\n",
       "      <th>4</th>\n",
       "      <td>Can I control anxiety without medication? I ha...</td>\n",
       "    </tr>\n",
       "  </tbody>\n",
       "</table>\n",
       "</div>"
      ],
      "text/plain": [
       "                                            question\n",
       "0  Escalating disagreements between mother and wi...\n",
       "1  I'm addicted to smoking. How can I stop? I'm p...\n",
       "2  Keeping secrets from my family I have secrets ...\n",
       "3  The Underlying Causes of Being Possessive I am...\n",
       "4  Can I control anxiety without medication? I ha..."
      ]
     },
     "execution_count": 6,
     "metadata": {},
     "output_type": "execute_result"
    }
   ],
   "source": [
    "df['question'] = df['questionTitle'] + ' ' + df['questionText']\n",
    "df[['question']].head()"
   ]
  },
  {
   "cell_type": "markdown",
   "metadata": {},
   "source": [
    "#### No. of Questions"
   ]
  },
  {
   "cell_type": "code",
   "execution_count": 7,
   "metadata": {},
   "outputs": [
    {
     "data": {
      "text/plain": [
       "711"
      ]
     },
     "execution_count": 7,
     "metadata": {},
     "output_type": "execute_result"
    }
   ],
   "source": [
    "len(set(df['questionID'].tolist()))"
   ]
  },
  {
   "cell_type": "markdown",
   "metadata": {},
   "source": [
    "#### No. of Answers per Question"
   ]
  },
  {
   "cell_type": "code",
   "execution_count": 8,
   "metadata": {},
   "outputs": [
    {
     "data": {
      "text/html": [
       "<div>\n",
       "<style scoped>\n",
       "    .dataframe tbody tr th:only-of-type {\n",
       "        vertical-align: middle;\n",
       "    }\n",
       "\n",
       "    .dataframe tbody tr th {\n",
       "        vertical-align: top;\n",
       "    }\n",
       "\n",
       "    .dataframe thead th {\n",
       "        text-align: right;\n",
       "    }\n",
       "</style>\n",
       "<table border=\"1\" class=\"dataframe\">\n",
       "  <thead>\n",
       "    <tr style=\"text-align: right;\">\n",
       "      <th></th>\n",
       "      <th>questionTitle</th>\n",
       "      <th>questionText</th>\n",
       "      <th>questionUrl</th>\n",
       "      <th>topics</th>\n",
       "      <th>therapistName</th>\n",
       "      <th>therapistUrl</th>\n",
       "      <th>answerText</th>\n",
       "      <th>upvotes</th>\n",
       "      <th>question</th>\n",
       "    </tr>\n",
       "    <tr>\n",
       "      <th>questionID</th>\n",
       "      <th></th>\n",
       "      <th></th>\n",
       "      <th></th>\n",
       "      <th></th>\n",
       "      <th></th>\n",
       "      <th></th>\n",
       "      <th></th>\n",
       "      <th></th>\n",
       "      <th></th>\n",
       "    </tr>\n",
       "  </thead>\n",
       "  <tbody>\n",
       "    <tr>\n",
       "      <th>5566f94fa64752d71ec3ca64</th>\n",
       "      <td>6</td>\n",
       "      <td>6</td>\n",
       "      <td>6</td>\n",
       "      <td>6</td>\n",
       "      <td>6</td>\n",
       "      <td>6</td>\n",
       "      <td>6</td>\n",
       "      <td>6</td>\n",
       "      <td>6</td>\n",
       "    </tr>\n",
       "    <tr>\n",
       "      <th>5566f9a2a64752d71ec3ca67</th>\n",
       "      <td>2</td>\n",
       "      <td>2</td>\n",
       "      <td>2</td>\n",
       "      <td>2</td>\n",
       "      <td>2</td>\n",
       "      <td>2</td>\n",
       "      <td>2</td>\n",
       "      <td>2</td>\n",
       "      <td>2</td>\n",
       "    </tr>\n",
       "    <tr>\n",
       "      <th>5566fab2a64752d71ec3ca69</th>\n",
       "      <td>1</td>\n",
       "      <td>1</td>\n",
       "      <td>1</td>\n",
       "      <td>1</td>\n",
       "      <td>1</td>\n",
       "      <td>1</td>\n",
       "      <td>1</td>\n",
       "      <td>1</td>\n",
       "      <td>1</td>\n",
       "    </tr>\n",
       "    <tr>\n",
       "      <th>5567d26887a1cc0c3f3d8f46</th>\n",
       "      <td>1</td>\n",
       "      <td>1</td>\n",
       "      <td>1</td>\n",
       "      <td>1</td>\n",
       "      <td>1</td>\n",
       "      <td>1</td>\n",
       "      <td>1</td>\n",
       "      <td>1</td>\n",
       "      <td>1</td>\n",
       "    </tr>\n",
       "    <tr>\n",
       "      <th>556b6940c969ba5861709de4</th>\n",
       "      <td>3</td>\n",
       "      <td>3</td>\n",
       "      <td>3</td>\n",
       "      <td>3</td>\n",
       "      <td>3</td>\n",
       "      <td>3</td>\n",
       "      <td>3</td>\n",
       "      <td>3</td>\n",
       "      <td>3</td>\n",
       "    </tr>\n",
       "    <tr>\n",
       "      <th>...</th>\n",
       "      <td>...</td>\n",
       "      <td>...</td>\n",
       "      <td>...</td>\n",
       "      <td>...</td>\n",
       "      <td>...</td>\n",
       "      <td>...</td>\n",
       "      <td>...</td>\n",
       "      <td>...</td>\n",
       "      <td>...</td>\n",
       "    </tr>\n",
       "    <tr>\n",
       "      <th>58c61c8e98741803743bf6c9</th>\n",
       "      <td>1</td>\n",
       "      <td>1</td>\n",
       "      <td>1</td>\n",
       "      <td>1</td>\n",
       "      <td>1</td>\n",
       "      <td>1</td>\n",
       "      <td>1</td>\n",
       "      <td>1</td>\n",
       "      <td>1</td>\n",
       "    </tr>\n",
       "    <tr>\n",
       "      <th>58c61c9298741803743bf6ca</th>\n",
       "      <td>6</td>\n",
       "      <td>6</td>\n",
       "      <td>6</td>\n",
       "      <td>6</td>\n",
       "      <td>6</td>\n",
       "      <td>6</td>\n",
       "      <td>6</td>\n",
       "      <td>6</td>\n",
       "      <td>6</td>\n",
       "    </tr>\n",
       "    <tr>\n",
       "      <th>58c61c9598741803743bf6cb</th>\n",
       "      <td>13</td>\n",
       "      <td>13</td>\n",
       "      <td>13</td>\n",
       "      <td>13</td>\n",
       "      <td>13</td>\n",
       "      <td>13</td>\n",
       "      <td>13</td>\n",
       "      <td>13</td>\n",
       "      <td>13</td>\n",
       "    </tr>\n",
       "    <tr>\n",
       "      <th>58c9c85398741803743bf6e9</th>\n",
       "      <td>3</td>\n",
       "      <td>3</td>\n",
       "      <td>3</td>\n",
       "      <td>3</td>\n",
       "      <td>3</td>\n",
       "      <td>3</td>\n",
       "      <td>3</td>\n",
       "      <td>3</td>\n",
       "      <td>3</td>\n",
       "    </tr>\n",
       "    <tr>\n",
       "      <th>58d18b6498741803743bf7df</th>\n",
       "      <td>4</td>\n",
       "      <td>4</td>\n",
       "      <td>4</td>\n",
       "      <td>4</td>\n",
       "      <td>4</td>\n",
       "      <td>4</td>\n",
       "      <td>4</td>\n",
       "      <td>4</td>\n",
       "      <td>4</td>\n",
       "    </tr>\n",
       "  </tbody>\n",
       "</table>\n",
       "<p>711 rows × 9 columns</p>\n",
       "</div>"
      ],
      "text/plain": [
       "                          questionTitle  questionText  questionUrl  topics  \\\n",
       "questionID                                                                   \n",
       "5566f94fa64752d71ec3ca64              6             6            6       6   \n",
       "5566f9a2a64752d71ec3ca67              2             2            2       2   \n",
       "5566fab2a64752d71ec3ca69              1             1            1       1   \n",
       "5567d26887a1cc0c3f3d8f46              1             1            1       1   \n",
       "556b6940c969ba5861709de4              3             3            3       3   \n",
       "...                                 ...           ...          ...     ...   \n",
       "58c61c8e98741803743bf6c9              1             1            1       1   \n",
       "58c61c9298741803743bf6ca              6             6            6       6   \n",
       "58c61c9598741803743bf6cb             13            13           13      13   \n",
       "58c9c85398741803743bf6e9              3             3            3       3   \n",
       "58d18b6498741803743bf7df              4             4            4       4   \n",
       "\n",
       "                          therapistName  therapistUrl  answerText  upvotes  \\\n",
       "questionID                                                                   \n",
       "5566f94fa64752d71ec3ca64              6             6           6        6   \n",
       "5566f9a2a64752d71ec3ca67              2             2           2        2   \n",
       "5566fab2a64752d71ec3ca69              1             1           1        1   \n",
       "5567d26887a1cc0c3f3d8f46              1             1           1        1   \n",
       "556b6940c969ba5861709de4              3             3           3        3   \n",
       "...                                 ...           ...         ...      ...   \n",
       "58c61c8e98741803743bf6c9              1             1           1        1   \n",
       "58c61c9298741803743bf6ca              6             6           6        6   \n",
       "58c61c9598741803743bf6cb             13            13          13       13   \n",
       "58c9c85398741803743bf6e9              3             3           3        3   \n",
       "58d18b6498741803743bf7df              4             4           4        4   \n",
       "\n",
       "                          question  \n",
       "questionID                          \n",
       "5566f94fa64752d71ec3ca64         6  \n",
       "5566f9a2a64752d71ec3ca67         2  \n",
       "5566fab2a64752d71ec3ca69         1  \n",
       "5567d26887a1cc0c3f3d8f46         1  \n",
       "556b6940c969ba5861709de4         3  \n",
       "...                            ...  \n",
       "58c61c8e98741803743bf6c9         1  \n",
       "58c61c9298741803743bf6ca         6  \n",
       "58c61c9598741803743bf6cb        13  \n",
       "58c9c85398741803743bf6e9         3  \n",
       "58d18b6498741803743bf7df         4  \n",
       "\n",
       "[711 rows x 9 columns]"
      ]
     },
     "execution_count": 8,
     "metadata": {},
     "output_type": "execute_result"
    }
   ],
   "source": [
    "df.groupby(\"questionID\").agg(\"count\")"
   ]
  },
  {
   "cell_type": "code",
   "execution_count": 9,
   "metadata": {},
   "outputs": [
    {
     "data": {
      "image/png": "[encoded data removed]",
      "text/plain": [
       "<Figure size 400x600 with 1 Axes>"
      ]
     },
     "metadata": {},
     "output_type": "display_data"
    }
   ],
   "source": [
    "plt.figure(figsize=(4,6))\n",
    "df.groupby(\"questionID\").agg(\"count\")['questionUrl'].plot.box()\n",
    "plt.title('Number of Answers per Question');"
   ]
  },
  {
   "cell_type": "markdown",
   "metadata": {},
   "source": [
    "## Encoding Columns"
   ]
  },
  {
   "cell_type": "code",
   "execution_count": 10,
   "metadata": {},
   "outputs": [
    {
     "data": {
      "text/plain": [
       "Relationships                                                110\n",
       "Depression                                                    65\n",
       "Anxiety                                                       44\n",
       "Counseling Fundamentals                                       39\n",
       "Family Conflict                                               36\n",
       "                                                            ... \n",
       "Relationship Dissolution ,Depression,Social Relationships      1\n",
       "LGBTQ,Relationships,Intimacy                                   1\n",
       "Anger Management,Social Relationships,Relationships            1\n",
       "Depression,Anxiety,Behavioral Change,Marriage                  1\n",
       "Relationships,Depression,Substance Abuse                       1\n",
       "Name: topics, Length: 278, dtype: int64"
      ]
     },
     "execution_count": 10,
     "metadata": {},
     "output_type": "execute_result"
    }
   ],
   "source": [
    "df.loc[:, 'topics'].value_counts()"
   ]
  },
  {
   "cell_type": "code",
   "execution_count": 11,
   "metadata": {},
   "outputs": [],
   "source": [
    "max_topics = 5\n",
    "df[[f'{num}' for num in np.arange(max_topics)]] = df['topics'].str.split(',', expand=True)"
   ]
  },
  {
   "cell_type": "code",
   "execution_count": 12,
   "metadata": {},
   "outputs": [],
   "source": [
    "df.drop(columns='topics', inplace=True)"
   ]
  },
  {
   "cell_type": "code",
   "execution_count": 13,
   "metadata": {},
   "outputs": [],
   "source": [
    "encoder = OneHotEncoder(sparse=False)\n",
    "values = encoder.fit_transform(df[['0','1','2','4']])\n",
    "df_0 = pd.DataFrame(values, columns=encoder.get_feature_names_out())"
   ]
  },
  {
   "cell_type": "code",
   "execution_count": 14,
   "metadata": {},
   "outputs": [
    {
     "data": {
      "text/plain": [
       "34"
      ]
     },
     "execution_count": 14,
     "metadata": {},
     "output_type": "execute_result"
    }
   ],
   "source": [
    "columns = []\n",
    "for x in list(df_0.columns):\n",
    "    x = re.sub(r\"[_]+\", '', x)\n",
    "    x = re.sub(r'[0-9]+', '', x)\n",
    "    columns.append(x)\n",
    "    \n",
    "columns_unique = list(set(columns))\n",
    "len(columns_unique)"
   ]
  },
  {
   "cell_type": "code",
   "execution_count": 15,
   "metadata": {},
   "outputs": [],
   "source": [
    "for column in columns_unique:\n",
    "    df_0[column] = df_0.loc[:, df_0.columns.str.contains(column)].sum(axis=1)"
   ]
  },
  {
   "cell_type": "code",
   "execution_count": 16,
   "metadata": {},
   "outputs": [
    {
     "data": {
      "text/plain": [
       "(1372, 34)"
      ]
     },
     "execution_count": 16,
     "metadata": {},
     "output_type": "execute_result"
    }
   ],
   "source": [
    "df_0[columns_unique].shape"
   ]
  },
  {
   "cell_type": "code",
   "execution_count": 17,
   "metadata": {},
   "outputs": [
    {
     "data": {
      "text/plain": [
       "(1372, 43)"
      ]
     },
     "execution_count": 17,
     "metadata": {},
     "output_type": "execute_result"
    }
   ],
   "source": [
    "df[columns_unique] = df_0[columns_unique]\n",
    "df.drop(columns=['0','1','2','3','4'], inplace=True)\n",
    "df.shape"
   ]
  },
  {
   "cell_type": "code",
   "execution_count": 18,
   "metadata": {},
   "outputs": [
    {
     "data": {
      "text/html": [
       "<div>\n",
       "<style scoped>\n",
       "    .dataframe tbody tr th:only-of-type {\n",
       "        vertical-align: middle;\n",
       "    }\n",
       "\n",
       "    .dataframe tbody tr th {\n",
       "        vertical-align: top;\n",
       "    }\n",
       "\n",
       "    .dataframe thead th {\n",
       "        text-align: right;\n",
       "    }\n",
       "</style>\n",
       "<table border=\"1\" class=\"dataframe\">\n",
       "  <thead>\n",
       "    <tr style=\"text-align: right;\">\n",
       "      <th></th>\n",
       "      <th>questionID</th>\n",
       "      <th>questionTitle</th>\n",
       "      <th>questionText</th>\n",
       "      <th>questionUrl</th>\n",
       "      <th>therapistName</th>\n",
       "      <th>therapistUrl</th>\n",
       "      <th>answerText</th>\n",
       "      <th>upvotes</th>\n",
       "      <th>question</th>\n",
       "      <th>Human Sexuality</th>\n",
       "      <th>...</th>\n",
       "      <th>Anxiety</th>\n",
       "      <th>Self-harm</th>\n",
       "      <th>Grief and Loss</th>\n",
       "      <th>Career Counseling</th>\n",
       "      <th>Anger Management</th>\n",
       "      <th>Spirituality</th>\n",
       "      <th>Children &amp; Adolescents</th>\n",
       "      <th>Counseling Fundamentals</th>\n",
       "      <th>Alzheimer's</th>\n",
       "      <th>LGBTQ</th>\n",
       "    </tr>\n",
       "  </thead>\n",
       "  <tbody>\n",
       "    <tr>\n",
       "      <th>0</th>\n",
       "      <td>5566fab2a64752d71ec3ca69</td>\n",
       "      <td>Escalating disagreements between mother and wife</td>\n",
       "      <td>My wife and mother are having tense disagreeme...</td>\n",
       "      <td>https://counselchat.com/questions/escalating-d...</td>\n",
       "      <td>Kristi King-Morgan, LMSW</td>\n",
       "      <td>https://counselchat.com/therapists/kristi-king...</td>\n",
       "      <td>&lt;p&gt;What you are describing is something psycho...</td>\n",
       "      <td>0.0</td>\n",
       "      <td>Escalating disagreements between mother and wi...</td>\n",
       "      <td>0.0</td>\n",
       "      <td>...</td>\n",
       "      <td>0.0</td>\n",
       "      <td>0.0</td>\n",
       "      <td>0.0</td>\n",
       "      <td>0.0</td>\n",
       "      <td>0.0</td>\n",
       "      <td>0.0</td>\n",
       "      <td>0.0</td>\n",
       "      <td>0.0</td>\n",
       "      <td>0.0</td>\n",
       "      <td>0.0</td>\n",
       "    </tr>\n",
       "    <tr>\n",
       "      <th>1</th>\n",
       "      <td>5566f94fa64752d71ec3ca64</td>\n",
       "      <td>I'm addicted to smoking. How can I stop?</td>\n",
       "      <td>I'm planning to have baby, so I have to quit s...</td>\n",
       "      <td>https://counselchat.com/questions/i-m-addicted...</td>\n",
       "      <td>Rebecca Duellman</td>\n",
       "      <td>https://counselchat.com/therapists/rebecca-due...</td>\n",
       "      <td>&lt;p&gt;Hi. Good for you in planning ahead to do wh...</td>\n",
       "      <td>0.0</td>\n",
       "      <td>I'm addicted to smoking. How can I stop? I'm p...</td>\n",
       "      <td>0.0</td>\n",
       "      <td>...</td>\n",
       "      <td>0.0</td>\n",
       "      <td>0.0</td>\n",
       "      <td>0.0</td>\n",
       "      <td>0.0</td>\n",
       "      <td>0.0</td>\n",
       "      <td>0.0</td>\n",
       "      <td>0.0</td>\n",
       "      <td>0.0</td>\n",
       "      <td>0.0</td>\n",
       "      <td>0.0</td>\n",
       "    </tr>\n",
       "    <tr>\n",
       "      <th>2</th>\n",
       "      <td>5567d26887a1cc0c3f3d8f46</td>\n",
       "      <td>Keeping secrets from my family</td>\n",
       "      <td>I have secrets in my mind, and I don't know wh...</td>\n",
       "      <td>https://counselchat.com/questions/keeping-secr...</td>\n",
       "      <td>Jeevna Bajaj</td>\n",
       "      <td>https://counselchat.com/therapists/jeevna-bajaj</td>\n",
       "      <td>&lt;p&gt;It sounds like keeping the secrets has beco...</td>\n",
       "      <td>0.0</td>\n",
       "      <td>Keeping secrets from my family I have secrets ...</td>\n",
       "      <td>0.0</td>\n",
       "      <td>...</td>\n",
       "      <td>0.0</td>\n",
       "      <td>0.0</td>\n",
       "      <td>0.0</td>\n",
       "      <td>0.0</td>\n",
       "      <td>0.0</td>\n",
       "      <td>0.0</td>\n",
       "      <td>0.0</td>\n",
       "      <td>0.0</td>\n",
       "      <td>0.0</td>\n",
       "      <td>0.0</td>\n",
       "    </tr>\n",
       "    <tr>\n",
       "      <th>3</th>\n",
       "      <td>556bed15c969ba5861709df5</td>\n",
       "      <td>The Underlying Causes of Being Possessive</td>\n",
       "      <td>I am extremely possessive in my relationships ...</td>\n",
       "      <td>https://counselchat.com/questions/the-underlyi...</td>\n",
       "      <td>Rebecca Duellman</td>\n",
       "      <td>https://counselchat.com/therapists/rebecca-due...</td>\n",
       "      <td>&lt;p&gt;Hi there. It's great you are able to realiz...</td>\n",
       "      <td>0.0</td>\n",
       "      <td>The Underlying Causes of Being Possessive I am...</td>\n",
       "      <td>0.0</td>\n",
       "      <td>...</td>\n",
       "      <td>0.0</td>\n",
       "      <td>0.0</td>\n",
       "      <td>0.0</td>\n",
       "      <td>0.0</td>\n",
       "      <td>0.0</td>\n",
       "      <td>0.0</td>\n",
       "      <td>0.0</td>\n",
       "      <td>0.0</td>\n",
       "      <td>0.0</td>\n",
       "      <td>0.0</td>\n",
       "    </tr>\n",
       "    <tr>\n",
       "      <th>4</th>\n",
       "      <td>556ba115c969ba5861709de6</td>\n",
       "      <td>Can I control anxiety without medication?</td>\n",
       "      <td>I had a head injury a few years ago and my min...</td>\n",
       "      <td>https://counselchat.com/questions/can-i-contro...</td>\n",
       "      <td>Rebecca Duellman</td>\n",
       "      <td>https://counselchat.com/therapists/rebecca-due...</td>\n",
       "      <td>&lt;p&gt;You didn't say what or how many medications...</td>\n",
       "      <td>0.0</td>\n",
       "      <td>Can I control anxiety without medication? I ha...</td>\n",
       "      <td>0.0</td>\n",
       "      <td>...</td>\n",
       "      <td>1.0</td>\n",
       "      <td>0.0</td>\n",
       "      <td>0.0</td>\n",
       "      <td>0.0</td>\n",
       "      <td>0.0</td>\n",
       "      <td>0.0</td>\n",
       "      <td>0.0</td>\n",
       "      <td>0.0</td>\n",
       "      <td>0.0</td>\n",
       "      <td>0.0</td>\n",
       "    </tr>\n",
       "  </tbody>\n",
       "</table>\n",
       "<p>5 rows × 43 columns</p>\n",
       "</div>"
      ],
      "text/plain": [
       "                 questionID                                     questionTitle  \\\n",
       "0  5566fab2a64752d71ec3ca69  Escalating disagreements between mother and wife   \n",
       "1  5566f94fa64752d71ec3ca64          I'm addicted to smoking. How can I stop?   \n",
       "2  5567d26887a1cc0c3f3d8f46                    Keeping secrets from my family   \n",
       "3  556bed15c969ba5861709df5         The Underlying Causes of Being Possessive   \n",
       "4  556ba115c969ba5861709de6         Can I control anxiety without medication?   \n",
       "\n",
       "                                        questionText  \\\n",
       "0  My wife and mother are having tense disagreeme...   \n",
       "1  I'm planning to have baby, so I have to quit s...   \n",
       "2  I have secrets in my mind, and I don't know wh...   \n",
       "3  I am extremely possessive in my relationships ...   \n",
       "4  I had a head injury a few years ago and my min...   \n",
       "\n",
       "                                         questionUrl  \\\n",
       "0  https://counselchat.com/questions/escalating-d...   \n",
       "1  https://counselchat.com/questions/i-m-addicted...   \n",
       "2  https://counselchat.com/questions/keeping-secr...   \n",
       "3  https://counselchat.com/questions/the-underlyi...   \n",
       "4  https://counselchat.com/questions/can-i-contro...   \n",
       "\n",
       "              therapistName  \\\n",
       "0  Kristi King-Morgan, LMSW   \n",
       "1          Rebecca Duellman   \n",
       "2              Jeevna Bajaj   \n",
       "3          Rebecca Duellman   \n",
       "4          Rebecca Duellman   \n",
       "\n",
       "                                        therapistUrl  \\\n",
       "0  https://counselchat.com/therapists/kristi-king...   \n",
       "1  https://counselchat.com/therapists/rebecca-due...   \n",
       "2    https://counselchat.com/therapists/jeevna-bajaj   \n",
       "3  https://counselchat.com/therapists/rebecca-due...   \n",
       "4  https://counselchat.com/therapists/rebecca-due...   \n",
       "\n",
       "                                          answerText  upvotes  \\\n",
       "0  <p>What you are describing is something psycho...      0.0   \n",
       "1  <p>Hi. Good for you in planning ahead to do wh...      0.0   \n",
       "2  <p>It sounds like keeping the secrets has beco...      0.0   \n",
       "3  <p>Hi there. It's great you are able to realiz...      0.0   \n",
       "4  <p>You didn't say what or how many medications...      0.0   \n",
       "\n",
       "                                            question  Human Sexuality  ...  \\\n",
       "0  Escalating disagreements between mother and wi...              0.0  ...   \n",
       "1  I'm addicted to smoking. How can I stop? I'm p...              0.0  ...   \n",
       "2  Keeping secrets from my family I have secrets ...              0.0  ...   \n",
       "3  The Underlying Causes of Being Possessive I am...              0.0  ...   \n",
       "4  Can I control anxiety without medication? I ha...              0.0  ...   \n",
       "\n",
       "   Anxiety  Self-harm  Grief and Loss  Career Counseling  Anger Management  \\\n",
       "0      0.0        0.0             0.0                0.0               0.0   \n",
       "1      0.0        0.0             0.0                0.0               0.0   \n",
       "2      0.0        0.0             0.0                0.0               0.0   \n",
       "3      0.0        0.0             0.0                0.0               0.0   \n",
       "4      1.0        0.0             0.0                0.0               0.0   \n",
       "\n",
       "   Spirituality  Children & Adolescents  Counseling Fundamentals   \\\n",
       "0           0.0                     0.0                       0.0   \n",
       "1           0.0                     0.0                       0.0   \n",
       "2           0.0                     0.0                       0.0   \n",
       "3           0.0                     0.0                       0.0   \n",
       "4           0.0                     0.0                       0.0   \n",
       "\n",
       "   Alzheimer's  LGBTQ  \n",
       "0          0.0    0.0  \n",
       "1          0.0    0.0  \n",
       "2          0.0    0.0  \n",
       "3          0.0    0.0  \n",
       "4          0.0    0.0  \n",
       "\n",
       "[5 rows x 43 columns]"
      ]
     },
     "execution_count": 18,
     "metadata": {},
     "output_type": "execute_result"
    }
   ],
   "source": [
    "df.head()"
   ]
  },
  {
   "cell_type": "markdown",
   "metadata": {},
   "source": [
    "## Text Preprocessing"
   ]
  },
  {
   "cell_type": "markdown",
   "metadata": {},
   "source": [
    "### Cleaning Questions"
   ]
  },
  {
   "cell_type": "code",
   "execution_count": 19,
   "metadata": {},
   "outputs": [
    {
     "data": {
      "text/plain": [
       "\"I'm addicted to smoking. How can I stop? I'm planning to have baby, so I have to quit smoking - but it's hard. Sometimes it's not a physical need, it's mental.\\r\\n\\r\\nI cannot help myself from thinking about smoking. What can I do to get rid of this addiction?\""
      ]
     },
     "execution_count": 19,
     "metadata": {},
     "output_type": "execute_result"
    }
   ],
   "source": [
    "df.loc[1, 'question']"
   ]
  },
  {
   "cell_type": "code",
   "execution_count": 20,
   "metadata": {},
   "outputs": [],
   "source": [
    "def clean_question(question):\n",
    "    question_1 = re.sub(r\"[,.;@#?!&$/-]+\", '', question) \n",
    "    question_2 = re.sub(r'[0-9]+', '', question_1)\n",
    "    question_3 = re.sub(r'[^ \\w\\.]', '', question_2)\n",
    "    return question_3.lower().strip()"
   ]
  },
  {
   "cell_type": "code",
   "execution_count": 21,
   "metadata": {},
   "outputs": [],
   "source": [
    "df['question'] = df['question'].map(clean_question)"
   ]
  },
  {
   "cell_type": "code",
   "execution_count": 22,
   "metadata": {},
   "outputs": [
    {
     "data": {
      "text/plain": [
       "'im addicted to smoking how can i stop im planning to have baby so i have to quit smoking  but its hard sometimes its not a physical need its mentali cannot help myself from thinking about smoking what can i do to get rid of this addiction'"
      ]
     },
     "execution_count": 22,
     "metadata": {},
     "output_type": "execute_result"
    }
   ],
   "source": [
    "df.loc[1, 'question']"
   ]
  },
  {
   "cell_type": "markdown",
   "metadata": {},
   "source": [
    "### Cleaning Answers"
   ]
  },
  {
   "cell_type": "code",
   "execution_count": 23,
   "metadata": {},
   "outputs": [
    {
     "data": {
      "text/plain": [
       "\"<p>Hi. Good for you in planning ahead to do what's healthiest for your baby (and yourself). That's a great first step! It's also good that you are able to identify that it's not always a physical need that's driving the addiction.</p><p>For the next steps, I would suggest trying to figure out when the psychological cravings for a cigarette occur. The psychological (or mental) cravings are usually based out of habit, such as having a cigarette after a meal. And if you're consciously trying to quit, you'll find the craving starts with simply thinking about having a cigarette, then usually moves on to thinking about how good it made you feel, etc., etc. Well, if I'm on a diet and I continue to let myself think about the ice cream sitting in the freezer, eventually I'll give in and eat it.</p><p>You're going to have thoughts about smoking a cigarette. That's normal and, for the most part, out of your control. But you choose whether or not to CONTINUE thinking and dwelling about it after that initial thought. That's what you would have to work on changing. When you have that initial thought, acknowledge it (&#34;Ok, I kind of want a cigarette now.&#34;), but then change the thoughts that typically follow. Distract yourself, think about something else, do something else, whatever it takes to get your mind off of that cigarette.</p><p>I've suggested to clients before that they should plan these scenarios out ahead of time so they already know what they're going to do when the time comes. Write down when you usually have the craving for a cigarette and then write down new thoughts or things to do to get your mind off of it. Eventually, it will become easier and easier to brush off that initial thought until you no longer have it.</p><p>Best of luck, and you have a really great motivator to quit - your baby!</p>\""
      ]
     },
     "execution_count": 23,
     "metadata": {},
     "output_type": "execute_result"
    }
   ],
   "source": [
    "df.loc[1, 'answerText']"
   ]
  },
  {
   "cell_type": "code",
   "execution_count": 24,
   "metadata": {},
   "outputs": [],
   "source": [
    "def clean_answer(answer):\n",
    "    answer_1 = re.sub(r'[^\\x00-\\x7F]+',' ', answer)\n",
    "    answer_2 = re.sub(\"<.*?>\", \" \", answer_1)\n",
    "    answer_3 = re.sub(r\"[,.;@#?!&$-/']+\", ' ', answer_2) \n",
    "    answer_4 = re.sub(r'[0-9]+', ' ', answer_3)\n",
    "    cleaned = answer_4.strip().lower()\n",
    "    return cleaned"
   ]
  },
  {
   "cell_type": "code",
   "execution_count": 25,
   "metadata": {},
   "outputs": [
    {
     "data": {
      "text/plain": [
       "'hi  good for you in planning ahead to do what s healthiest for your baby  and yourself  that s a great first step  it s also good that you are able to identify that it s not always a physical need that s driving the addiction   for the next steps  i would suggest trying to figure out when the psychological cravings for a cigarette occur  the psychological  or mental  cravings are usually based out of habit  such as having a cigarette after a meal  and if you re consciously trying to quit  you ll find the craving starts with simply thinking about having a cigarette  then usually moves on to thinking about how good it made you feel  etc  etc  well  if i m on a diet and i continue to let myself think about the ice cream sitting in the freezer  eventually i ll give in and eat it   you re going to have thoughts about smoking a cigarette  that s normal and  for the most part  out of your control  but you choose whether or not to continue thinking and dwelling about it after that initial thought  that s what you would have to work on changing  when you have that initial thought  acknowledge it    ok  i kind of want a cigarette now    but then change the thoughts that typically follow  distract yourself  think about something else  do something else  whatever it takes to get your mind off of that cigarette   i ve suggested to clients before that they should plan these scenarios out ahead of time so they already know what they re going to do when the time comes  write down when you usually have the craving for a cigarette and then write down new thoughts or things to do to get your mind off of it  eventually  it will become easier and easier to brush off that initial thought until you no longer have it   best of luck  and you have a really great motivator to quit   your baby'"
      ]
     },
     "execution_count": 25,
     "metadata": {},
     "output_type": "execute_result"
    }
   ],
   "source": [
    "df['answerText'] = df['answerText'].map(clean_answer)\n",
    "df.loc[1, 'answerText']"
   ]
  },
  {
   "cell_type": "markdown",
   "metadata": {},
   "source": [
    "### Tokenize and Lemmatize"
   ]
  },
  {
   "cell_type": "code",
   "execution_count": 26,
   "metadata": {},
   "outputs": [
    {
     "name": "stdout",
     "output_type": "stream",
     "text": [
      "['hi', 'good', 'planning', 'ahead', 'healthiest', 'baby', 'great', 'first', 'step', 'also', 'good', 'able', 'identify', 'always', 'physical', 'need', 'driving', 'addiction', 'next', 'steps', 'would', 'suggest', 'trying', 'figure', 'psychological', 'cravings', 'cigarette', 'occur', 'psychological', 'mental', 'cravings', 'usually', 'based', 'habit', 'cigarette', 'meal', 'consciously', 'trying', 'quit', 'find', 'craving', 'starts', 'simply', 'thinking', 'cigarette', 'usually', 'moves', 'thinking', 'good', 'made', 'feel', 'etc', 'etc', 'well', 'diet', 'continue', 'let', 'think', 'ice', 'cream', 'sitting', 'freezer', 'eventually', 'give', 'eat', 'going', 'thoughts', 'smoking', 'cigarette', 'normal', 'part', 'control', 'choose', 'whether', 'continue', 'thinking', 'dwelling', 'initial', 'thought', 'would', 'work', 'changing', 'initial', 'thought', 'acknowledge', 'ok', 'kind', 'want', 'cigarette', 'change', 'thoughts', 'typically', 'follow', 'distract', 'think', 'something', 'else', 'something', 'else', 'whatever', 'takes', 'get', 'mind', 'cigarette', 'suggested', 'clients', 'plan', 'scenarios', 'ahead', 'time', 'already', 'know', 'going', 'time', 'comes', 'write', 'usually', 'craving', 'cigarette', 'write', 'new', 'thoughts', 'things', 'get', 'mind', 'eventually', 'become', 'easier', 'easier', 'brush', 'initial', 'thought', 'longer', 'best', 'luck', 'really', 'great', 'motivator', 'quit', 'baby'] 140\n"
     ]
    }
   ],
   "source": [
    "answer_words = nltk.word_tokenize(df.loc[1, 'answerText'])\n",
    "key_words = [ word for word in answer_words if not word in set(stopwords.words(\"english\"))]\n",
    "print(key_words, len(key_words))"
   ]
  },
  {
   "cell_type": "code",
   "execution_count": 27,
   "metadata": {},
   "outputs": [
    {
     "name": "stdout",
     "output_type": "stream",
     "text": [
      "['hi', 'good', 'plan', 'ahead', 'healthy', 'baby', 'great', 'first', 'step', 'also', 'good', 'able', 'identify', 'always', 'physical', 'need', 'drive', 'addiction', 'next', 'step', 'would', 'suggest', 'try', 'figure', 'psychological', 'crave', 'cigarette', 'occur', 'psychological', 'mental', 'crave', 'usually', 'base', 'habit', 'cigarette', 'meal', 'consciously', 'try', 'quit', 'find', 'crave', 'start', 'simply', 'think', 'cigarette', 'usually', 'move', 'think', 'good', 'make', 'feel', 'etc', 'etc', 'well', 'diet', 'continue', 'let', 'think', 'ice', 'cream', 'sit', 'freezer', 'eventually', 'give', 'eat', 'go', 'think', 'smoke', 'cigarette', 'normal', 'part', 'control', 'choose', 'whether', 'continue', 'think', 'dwell', 'initial', 'think', 'would', 'work', 'change', 'initial', 'think', 'acknowledge', 'ok', 'kind', 'want', 'cigarette', 'change', 'think', 'typically', 'follow', 'distract', 'think', 'something', 'else', 'something', 'else', 'whatever', 'take', 'get', 'mind', 'cigarette', 'suggest', 'client', 'plan', 'scenario', 'ahead', 'time', 'already', 'know', 'go', 'time', 'come', 'write', 'usually', 'crave', 'cigarette', 'write', 'new', 'think', 'thing', 'get', 'mind', 'eventually', 'become', 'easy', 'easy', 'brush', 'initial', 'think', 'long', 'best', 'luck', 'really', 'great', 'motivator', 'quit', 'baby'] 140\n"
     ]
    }
   ],
   "source": [
    "lemmatizer = WordNetLemmatizer()\n",
    "key_words_lemme = [lemmatizer.lemmatize(\n",
    "    lemmatizer.lemmatize(\n",
    "        lemmatizer.lemmatize(word, 'n'), \n",
    "        'v'),\n",
    "    'a') for word in key_words]\n",
    "print(key_words_lemme, len(key_words_lemme))"
   ]
  },
  {
   "cell_type": "code",
   "execution_count": 28,
   "metadata": {},
   "outputs": [],
   "source": [
    "def key_words(sentence):\n",
    "    answer_words = nltk.word_tokenize(sentence)\n",
    "    key_words = [ word for word in answer_words if not word in set(stopwords.words(\"english\"))]\n",
    "    return key_words\n",
    "\n",
    "def lemmatize(key_words):\n",
    "    lemmatizer = WordNetLemmatizer()\n",
    "    key_words_lemme = [lemmatizer.lemmatize(\n",
    "        lemmatizer.lemmatize(\n",
    "            lemmatizer.lemmatize(word, 'n'), \n",
    "            'v'),\n",
    "        'a') for word in key_words]\n",
    "    return key_words_lemme\n",
    "\n",
    "def bag_of_words(sentence):\n",
    "    tokens = key_words(sentence)\n",
    "    lemme = lemmatize(tokens)\n",
    "    return lemme"
   ]
  },
  {
   "cell_type": "code",
   "execution_count": 29,
   "metadata": {},
   "outputs": [
    {
     "name": "stdout",
     "output_type": "stream",
     "text": [
      "['im', 'addict', 'smoke', 'stop', 'im', 'plan', 'baby', 'quit', 'smoke', 'hard', 'sometimes', 'physical', 'need', 'mentali', 'help', 'think', 'smoke', 'get', 'rid', 'addiction']\n"
     ]
    }
   ],
   "source": [
    "df['lemmatized question'] = df['question'].map(bag_of_words)\n",
    "print(df.loc[1, 'lemmatized question'])"
   ]
  },
  {
   "cell_type": "code",
   "execution_count": 30,
   "metadata": {},
   "outputs": [
    {
     "name": "stdout",
     "output_type": "stream",
     "text": [
      "['hi', 'good', 'plan', 'ahead', 'healthy', 'baby', 'great', 'first', 'step', 'also', 'good', 'able', 'identify', 'always', 'physical', 'need', 'drive', 'addiction', 'next', 'step', 'would', 'suggest', 'try', 'figure', 'psychological', 'crave', 'cigarette', 'occur', 'psychological', 'mental', 'crave', 'usually', 'base', 'habit', 'cigarette', 'meal', 'consciously', 'try', 'quit', 'find', 'crave', 'start', 'simply', 'think', 'cigarette', 'usually', 'move', 'think', 'good', 'make', 'feel', 'etc', 'etc', 'well', 'diet', 'continue', 'let', 'think', 'ice', 'cream', 'sit', 'freezer', 'eventually', 'give', 'eat', 'go', 'think', 'smoke', 'cigarette', 'normal', 'part', 'control', 'choose', 'whether', 'continue', 'think', 'dwell', 'initial', 'think', 'would', 'work', 'change', 'initial', 'think', 'acknowledge', 'ok', 'kind', 'want', 'cigarette', 'change', 'think', 'typically', 'follow', 'distract', 'think', 'something', 'else', 'something', 'else', 'whatever', 'take', 'get', 'mind', 'cigarette', 'suggest', 'client', 'plan', 'scenario', 'ahead', 'time', 'already', 'know', 'go', 'time', 'come', 'write', 'usually', 'crave', 'cigarette', 'write', 'new', 'think', 'thing', 'get', 'mind', 'eventually', 'become', 'easy', 'easy', 'brush', 'initial', 'think', 'long', 'best', 'luck', 'really', 'great', 'motivator', 'quit', 'baby']\n"
     ]
    }
   ],
   "source": [
    "df['lemmatized answer'] = df['answerText'].map(bag_of_words)\n",
    "print(df.loc[1, 'lemmatized answer'])"
   ]
  },
  {
   "cell_type": "code",
   "execution_count": null,
   "metadata": {},
   "outputs": [],
   "source": []
  }
 ],
 "metadata": {
  "kernelspec": {
   "display_name": "Python 3.10.6 64-bit ('MHConvoAI')",
   "language": "python",
   "name": "python3"
  },
  "language_info": {
   "codemirror_mode": {
    "name": "ipython",
    "version": 3
   },
   "file_extension": ".py",
   "mimetype": "text/x-python",
   "name": "python",
   "nbconvert_exporter": "python",
   "pygments_lexer": "ipython3",
   "version": "3.10.6"
  },
  "orig_nbformat": 4,
  "vscode": {
   "interpreter": {
    "hash": "5590e8375bbd1ac0932682a9af597d5d120d0add764ffbe9eea41406054bcf7f"
   }
  }
 },
 "nbformat": 4,
 "nbformat_minor": 2
}
